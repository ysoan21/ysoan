{
 "cells": [
  {
   "cell_type": "code",
   "execution_count": 61,
   "metadata": {},
   "outputs": [],
   "source": [
    "# Aim- TO feed the stock data from 1st Jan'21 to 1st Jan'22 and predict the expected CAPM based model's return on 11th May'22."
   ]
  },
  {
   "cell_type": "code",
   "execution_count": 1,
   "metadata": {},
   "outputs": [],
   "source": [
    "from scipy import stats\n",
    "import pandas as pd\n",
    "import pandas_datareader as web\n",
    "import datetime\n",
    "import matplotlib.pyplot as plt\n",
    "%matplotlib inline"
   ]
  },
  {
   "cell_type": "code",
   "execution_count": 2,
   "metadata": {},
   "outputs": [],
   "source": [
    "# Took 5 year data into considation.\n",
    "\n",
    "start = datetime.datetime(2021,1,1)\n",
    "end = datetime.datetime(2022,1,1)"
   ]
  },
  {
   "cell_type": "code",
   "execution_count": 3,
   "metadata": {},
   "outputs": [
    {
     "data": {
      "text/html": [
       "<div>\n",
       "<style scoped>\n",
       "    .dataframe tbody tr th:only-of-type {\n",
       "        vertical-align: middle;\n",
       "    }\n",
       "\n",
       "    .dataframe tbody tr th {\n",
       "        vertical-align: top;\n",
       "    }\n",
       "\n",
       "    .dataframe thead th {\n",
       "        text-align: right;\n",
       "    }\n",
       "</style>\n",
       "<table border=\"1\" class=\"dataframe\">\n",
       "  <thead>\n",
       "    <tr style=\"text-align: right;\">\n",
       "      <th></th>\n",
       "      <th>High</th>\n",
       "      <th>Low</th>\n",
       "      <th>Open</th>\n",
       "      <th>Close</th>\n",
       "      <th>Volume</th>\n",
       "      <th>Adj Close</th>\n",
       "    </tr>\n",
       "    <tr>\n",
       "      <th>Date</th>\n",
       "      <th></th>\n",
       "      <th></th>\n",
       "      <th></th>\n",
       "      <th></th>\n",
       "      <th></th>\n",
       "      <th></th>\n",
       "    </tr>\n",
       "  </thead>\n",
       "  <tbody>\n",
       "    <tr>\n",
       "      <th>2021-01-01</th>\n",
       "      <td>14049.849609</td>\n",
       "      <td>13991.349609</td>\n",
       "      <td>13996.099609</td>\n",
       "      <td>14018.500000</td>\n",
       "      <td>358100</td>\n",
       "      <td>14018.500000</td>\n",
       "    </tr>\n",
       "    <tr>\n",
       "      <th>2021-01-04</th>\n",
       "      <td>14147.950195</td>\n",
       "      <td>13953.750000</td>\n",
       "      <td>14104.349609</td>\n",
       "      <td>14132.900391</td>\n",
       "      <td>495000</td>\n",
       "      <td>14132.900391</td>\n",
       "    </tr>\n",
       "    <tr>\n",
       "      <th>2021-01-05</th>\n",
       "      <td>14215.599609</td>\n",
       "      <td>14048.150391</td>\n",
       "      <td>14075.150391</td>\n",
       "      <td>14199.500000</td>\n",
       "      <td>492500</td>\n",
       "      <td>14199.500000</td>\n",
       "    </tr>\n",
       "    <tr>\n",
       "      <th>2021-01-06</th>\n",
       "      <td>14244.150391</td>\n",
       "      <td>14039.900391</td>\n",
       "      <td>14240.950195</td>\n",
       "      <td>14146.250000</td>\n",
       "      <td>632300</td>\n",
       "      <td>14146.250000</td>\n",
       "    </tr>\n",
       "    <tr>\n",
       "      <th>2021-01-07</th>\n",
       "      <td>14256.250000</td>\n",
       "      <td>14123.099609</td>\n",
       "      <td>14253.750000</td>\n",
       "      <td>14137.349609</td>\n",
       "      <td>559200</td>\n",
       "      <td>14137.349609</td>\n",
       "    </tr>\n",
       "  </tbody>\n",
       "</table>\n",
       "</div>"
      ],
      "text/plain": [
       "                    High           Low          Open         Close  Volume  \\\n",
       "Date                                                                         \n",
       "2021-01-01  14049.849609  13991.349609  13996.099609  14018.500000  358100   \n",
       "2021-01-04  14147.950195  13953.750000  14104.349609  14132.900391  495000   \n",
       "2021-01-05  14215.599609  14048.150391  14075.150391  14199.500000  492500   \n",
       "2021-01-06  14244.150391  14039.900391  14240.950195  14146.250000  632300   \n",
       "2021-01-07  14256.250000  14123.099609  14253.750000  14137.349609  559200   \n",
       "\n",
       "               Adj Close  \n",
       "Date                      \n",
       "2021-01-01  14018.500000  \n",
       "2021-01-04  14132.900391  \n",
       "2021-01-05  14199.500000  \n",
       "2021-01-06  14146.250000  \n",
       "2021-01-07  14137.349609  "
      ]
     },
     "execution_count": 3,
     "metadata": {},
     "output_type": "execute_result"
    }
   ],
   "source": [
    "# Used Yahoo Finance and took Nifty 50 as index for market return, and Yahoo Finance as the data source provider.\n",
    "\n",
    "df_nse = web.DataReader('^NSEI','yahoo',start,end)\n",
    "df_nse.head()"
   ]
  },
  {
   "cell_type": "code",
   "execution_count": 4,
   "metadata": {},
   "outputs": [
    {
     "data": {
      "text/html": [
       "<div>\n",
       "<style scoped>\n",
       "    .dataframe tbody tr th:only-of-type {\n",
       "        vertical-align: middle;\n",
       "    }\n",
       "\n",
       "    .dataframe tbody tr th {\n",
       "        vertical-align: top;\n",
       "    }\n",
       "\n",
       "    .dataframe thead th {\n",
       "        text-align: right;\n",
       "    }\n",
       "</style>\n",
       "<table border=\"1\" class=\"dataframe\">\n",
       "  <thead>\n",
       "    <tr style=\"text-align: right;\">\n",
       "      <th></th>\n",
       "      <th>High</th>\n",
       "      <th>Low</th>\n",
       "      <th>Open</th>\n",
       "      <th>Close</th>\n",
       "      <th>Volume</th>\n",
       "      <th>Adj Close</th>\n",
       "    </tr>\n",
       "    <tr>\n",
       "      <th>Date</th>\n",
       "      <th></th>\n",
       "      <th></th>\n",
       "      <th></th>\n",
       "      <th></th>\n",
       "      <th></th>\n",
       "      <th></th>\n",
       "    </tr>\n",
       "  </thead>\n",
       "  <tbody>\n",
       "    <tr>\n",
       "      <th>2021-01-01</th>\n",
       "      <td>649.700012</td>\n",
       "      <td>640.000000</td>\n",
       "      <td>645.0</td>\n",
       "      <td>643.099976</td>\n",
       "      <td>8411396.0</td>\n",
       "      <td>565.098328</td>\n",
       "    </tr>\n",
       "    <tr>\n",
       "      <th>2021-01-04</th>\n",
       "      <td>699.900024</td>\n",
       "      <td>646.450012</td>\n",
       "      <td>649.0</td>\n",
       "      <td>693.000000</td>\n",
       "      <td>38184955.0</td>\n",
       "      <td>608.946045</td>\n",
       "    </tr>\n",
       "    <tr>\n",
       "      <th>2021-01-05</th>\n",
       "      <td>693.849976</td>\n",
       "      <td>675.099976</td>\n",
       "      <td>687.0</td>\n",
       "      <td>680.549988</td>\n",
       "      <td>21545254.0</td>\n",
       "      <td>598.006042</td>\n",
       "    </tr>\n",
       "    <tr>\n",
       "      <th>2021-01-06</th>\n",
       "      <td>696.650024</td>\n",
       "      <td>675.000000</td>\n",
       "      <td>684.0</td>\n",
       "      <td>683.799988</td>\n",
       "      <td>19610522.0</td>\n",
       "      <td>600.861877</td>\n",
       "    </tr>\n",
       "    <tr>\n",
       "      <th>2021-01-07</th>\n",
       "      <td>731.500000</td>\n",
       "      <td>691.700012</td>\n",
       "      <td>693.0</td>\n",
       "      <td>722.799988</td>\n",
       "      <td>38232194.0</td>\n",
       "      <td>635.131592</td>\n",
       "    </tr>\n",
       "  </tbody>\n",
       "</table>\n",
       "</div>"
      ],
      "text/plain": [
       "                  High         Low   Open       Close      Volume   Adj Close\n",
       "Date                                                                         \n",
       "2021-01-01  649.700012  640.000000  645.0  643.099976   8411396.0  565.098328\n",
       "2021-01-04  699.900024  646.450012  649.0  693.000000  38184955.0  608.946045\n",
       "2021-01-05  693.849976  675.099976  687.0  680.549988  21545254.0  598.006042\n",
       "2021-01-06  696.650024  675.000000  684.0  683.799988  19610522.0  600.861877\n",
       "2021-01-07  731.500000  691.700012  693.0  722.799988  38232194.0  635.131592"
      ]
     },
     "execution_count": 4,
     "metadata": {},
     "output_type": "execute_result"
    }
   ],
   "source": [
    "# Took Bajaj Finance Ltd. as the stock in consideration.\n",
    "\n",
    "df_stock = web.DataReader('TATASTEEL.NS','yahoo',start,end)\n",
    "df_stock.head()"
   ]
  },
  {
   "cell_type": "code",
   "execution_count": 5,
   "metadata": {},
   "outputs": [
    {
     "data": {
      "text/plain": [
       "<matplotlib.legend.Legend at 0x240a8fc9600>"
      ]
     },
     "execution_count": 5,
     "metadata": {},
     "output_type": "execute_result"
    },
    {
     "data": {
      "image/png": "[encoded data removed]",
      "text/plain": [
       "<Figure size 720x576 with 1 Axes>"
      ]
     },
     "metadata": {
      "needs_background": "light"
     },
     "output_type": "display_data"
    }
   ],
   "source": [
    "# Absolute plot of Stocks price.\n",
    "\n",
    "df_stock['Close'].plot(label = 'Tata Steel', figsize=(10,8))\n",
    "df_nse['Close'].plot(label = 'Nifty 50')\n",
    "plt.legend()"
   ]
  },
  {
   "cell_type": "code",
   "execution_count": 6,
   "metadata": {},
   "outputs": [],
   "source": [
    "# Making a cummulative table column.\n",
    "\n",
    "df_stock['Cumu'] = df_stock['Close']/df_stock['Close'].iloc[0] #cumulative return, rrelative to Day0 closing.\n",
    "df_nse['Cumu'] = df_nse['Close']/df_nse['Close'].iloc[0]"
   ]
  },
  {
   "cell_type": "code",
   "execution_count": 7,
   "metadata": {},
   "outputs": [
    {
     "data": {
      "text/plain": [
       "<matplotlib.legend.Legend at 0x240a919f6d0>"
      ]
     },
     "execution_count": 7,
     "metadata": {},
     "output_type": "execute_result"
    },
    {
     "data": {
      "image/png": "[encoded data removed]",
      "text/plain": [
       "<Figure size 720x576 with 1 Axes>"
      ]
     },
     "metadata": {
      "needs_background": "light"
     },
     "output_type": "display_data"
    }
   ],
   "source": [
    "# Cummulative plot graph for vizulaizing relative gain/loss of a stocks.\n",
    "\n",
    "df_stock['Cumu'].plot(label = 'Tata Steel', figsize=(10,8))\n",
    "df_nse['Cumu'].plot(label = 'Nifty 50')\n",
    "plt.legend()"
   ]
  },
  {
   "cell_type": "code",
   "execution_count": 8,
   "metadata": {},
   "outputs": [],
   "source": [
    "# Daily changes in cummulative price of stocks.\n",
    "\n",
    "df_stock['daily_ret'] = df_stock['Close'].pct_change(1)\n",
    "df_nse['daily_ret'] = df_nse['Close'].pct_change(1)"
   ]
  },
  {
   "cell_type": "code",
   "execution_count": 9,
   "metadata": {},
   "outputs": [
    {
     "data": {
      "text/html": [
       "<div>\n",
       "<style scoped>\n",
       "    .dataframe tbody tr th:only-of-type {\n",
       "        vertical-align: middle;\n",
       "    }\n",
       "\n",
       "    .dataframe tbody tr th {\n",
       "        vertical-align: top;\n",
       "    }\n",
       "\n",
       "    .dataframe thead th {\n",
       "        text-align: right;\n",
       "    }\n",
       "</style>\n",
       "<table border=\"1\" class=\"dataframe\">\n",
       "  <thead>\n",
       "    <tr style=\"text-align: right;\">\n",
       "      <th></th>\n",
       "      <th>High</th>\n",
       "      <th>Low</th>\n",
       "      <th>Open</th>\n",
       "      <th>Close</th>\n",
       "      <th>Volume</th>\n",
       "      <th>Adj Close</th>\n",
       "      <th>Cumu</th>\n",
       "      <th>daily_ret</th>\n",
       "    </tr>\n",
       "    <tr>\n",
       "      <th>Date</th>\n",
       "      <th></th>\n",
       "      <th></th>\n",
       "      <th></th>\n",
       "      <th></th>\n",
       "      <th></th>\n",
       "      <th></th>\n",
       "      <th></th>\n",
       "      <th></th>\n",
       "    </tr>\n",
       "  </thead>\n",
       "  <tbody>\n",
       "    <tr>\n",
       "      <th>2021-01-01</th>\n",
       "      <td>14049.849609</td>\n",
       "      <td>13991.349609</td>\n",
       "      <td>13996.099609</td>\n",
       "      <td>14018.500000</td>\n",
       "      <td>358100</td>\n",
       "      <td>14018.500000</td>\n",
       "      <td>1.000000</td>\n",
       "      <td>NaN</td>\n",
       "    </tr>\n",
       "    <tr>\n",
       "      <th>2021-01-04</th>\n",
       "      <td>14147.950195</td>\n",
       "      <td>13953.750000</td>\n",
       "      <td>14104.349609</td>\n",
       "      <td>14132.900391</td>\n",
       "      <td>495000</td>\n",
       "      <td>14132.900391</td>\n",
       "      <td>1.008161</td>\n",
       "      <td>0.008161</td>\n",
       "    </tr>\n",
       "    <tr>\n",
       "      <th>2021-01-05</th>\n",
       "      <td>14215.599609</td>\n",
       "      <td>14048.150391</td>\n",
       "      <td>14075.150391</td>\n",
       "      <td>14199.500000</td>\n",
       "      <td>492500</td>\n",
       "      <td>14199.500000</td>\n",
       "      <td>1.012912</td>\n",
       "      <td>0.004712</td>\n",
       "    </tr>\n",
       "    <tr>\n",
       "      <th>2021-01-06</th>\n",
       "      <td>14244.150391</td>\n",
       "      <td>14039.900391</td>\n",
       "      <td>14240.950195</td>\n",
       "      <td>14146.250000</td>\n",
       "      <td>632300</td>\n",
       "      <td>14146.250000</td>\n",
       "      <td>1.009113</td>\n",
       "      <td>-0.003750</td>\n",
       "    </tr>\n",
       "    <tr>\n",
       "      <th>2021-01-07</th>\n",
       "      <td>14256.250000</td>\n",
       "      <td>14123.099609</td>\n",
       "      <td>14253.750000</td>\n",
       "      <td>14137.349609</td>\n",
       "      <td>559200</td>\n",
       "      <td>14137.349609</td>\n",
       "      <td>1.008478</td>\n",
       "      <td>-0.000629</td>\n",
       "    </tr>\n",
       "    <tr>\n",
       "      <th>...</th>\n",
       "      <td>...</td>\n",
       "      <td>...</td>\n",
       "      <td>...</td>\n",
       "      <td>...</td>\n",
       "      <td>...</td>\n",
       "      <td>...</td>\n",
       "      <td>...</td>\n",
       "      <td>...</td>\n",
       "    </tr>\n",
       "    <tr>\n",
       "      <th>2021-12-27</th>\n",
       "      <td>17112.050781</td>\n",
       "      <td>16833.199219</td>\n",
       "      <td>16937.750000</td>\n",
       "      <td>17086.250000</td>\n",
       "      <td>144800</td>\n",
       "      <td>17086.250000</td>\n",
       "      <td>1.218836</td>\n",
       "      <td>0.004852</td>\n",
       "    </tr>\n",
       "    <tr>\n",
       "      <th>2021-12-28</th>\n",
       "      <td>17250.250000</td>\n",
       "      <td>17161.150391</td>\n",
       "      <td>17177.599609</td>\n",
       "      <td>17233.250000</td>\n",
       "      <td>176000</td>\n",
       "      <td>17233.250000</td>\n",
       "      <td>1.229322</td>\n",
       "      <td>0.008603</td>\n",
       "    </tr>\n",
       "    <tr>\n",
       "      <th>2021-12-29</th>\n",
       "      <td>17285.949219</td>\n",
       "      <td>17176.650391</td>\n",
       "      <td>17220.099609</td>\n",
       "      <td>17213.599609</td>\n",
       "      <td>161700</td>\n",
       "      <td>17213.599609</td>\n",
       "      <td>1.227920</td>\n",
       "      <td>-0.001140</td>\n",
       "    </tr>\n",
       "    <tr>\n",
       "      <th>2021-12-30</th>\n",
       "      <td>17264.050781</td>\n",
       "      <td>17146.349609</td>\n",
       "      <td>17201.449219</td>\n",
       "      <td>17203.949219</td>\n",
       "      <td>320800</td>\n",
       "      <td>17203.949219</td>\n",
       "      <td>1.227232</td>\n",
       "      <td>-0.000561</td>\n",
       "    </tr>\n",
       "    <tr>\n",
       "      <th>2021-12-31</th>\n",
       "      <td>17400.800781</td>\n",
       "      <td>17238.500000</td>\n",
       "      <td>17244.500000</td>\n",
       "      <td>17354.050781</td>\n",
       "      <td>167000</td>\n",
       "      <td>17354.050781</td>\n",
       "      <td>1.237939</td>\n",
       "      <td>0.008725</td>\n",
       "    </tr>\n",
       "  </tbody>\n",
       "</table>\n",
       "<p>248 rows × 8 columns</p>\n",
       "</div>"
      ],
      "text/plain": [
       "                    High           Low          Open         Close  Volume  \\\n",
       "Date                                                                         \n",
       "2021-01-01  14049.849609  13991.349609  13996.099609  14018.500000  358100   \n",
       "2021-01-04  14147.950195  13953.750000  14104.349609  14132.900391  495000   \n",
       "2021-01-05  14215.599609  14048.150391  14075.150391  14199.500000  492500   \n",
       "2021-01-06  14244.150391  14039.900391  14240.950195  14146.250000  632300   \n",
       "2021-01-07  14256.250000  14123.099609  14253.750000  14137.349609  559200   \n",
       "...                  ...           ...           ...           ...     ...   \n",
       "2021-12-27  17112.050781  16833.199219  16937.750000  17086.250000  144800   \n",
       "2021-12-28  17250.250000  17161.150391  17177.599609  17233.250000  176000   \n",
       "2021-12-29  17285.949219  17176.650391  17220.099609  17213.599609  161700   \n",
       "2021-12-30  17264.050781  17146.349609  17201.449219  17203.949219  320800   \n",
       "2021-12-31  17400.800781  17238.500000  17244.500000  17354.050781  167000   \n",
       "\n",
       "               Adj Close      Cumu  daily_ret  \n",
       "Date                                           \n",
       "2021-01-01  14018.500000  1.000000        NaN  \n",
       "2021-01-04  14132.900391  1.008161   0.008161  \n",
       "2021-01-05  14199.500000  1.012912   0.004712  \n",
       "2021-01-06  14146.250000  1.009113  -0.003750  \n",
       "2021-01-07  14137.349609  1.008478  -0.000629  \n",
       "...                  ...       ...        ...  \n",
       "2021-12-27  17086.250000  1.218836   0.004852  \n",
       "2021-12-28  17233.250000  1.229322   0.008603  \n",
       "2021-12-29  17213.599609  1.227920  -0.001140  \n",
       "2021-12-30  17203.949219  1.227232  -0.000561  \n",
       "2021-12-31  17354.050781  1.237939   0.008725  \n",
       "\n",
       "[248 rows x 8 columns]"
      ]
     },
     "execution_count": 9,
     "metadata": {},
     "output_type": "execute_result"
    }
   ],
   "source": [
    "df_nse"
   ]
  },
  {
   "cell_type": "code",
   "execution_count": 10,
   "metadata": {},
   "outputs": [
    {
     "data": {
      "text/plain": [
       "<matplotlib.collections.PathCollection at 0x240a915fbe0>"
      ]
     },
     "execution_count": 10,
     "metadata": {},
     "output_type": "execute_result"
    },
    {
     "data": {
      "image/png": "[encoded data removed]",
      "text/plain": [
       "<Figure size 432x288 with 1 Axes>"
      ]
     },
     "metadata": {
      "needs_background": "light"
     },
     "output_type": "display_data"
    }
   ],
   "source": [
    "# Scatter plots of daily returns of stocks.\n",
    "\n",
    "plt.scatter(df_stock['daily_ret'],df_nse['daily_ret'])"
   ]
  },
  {
   "cell_type": "code",
   "execution_count": 11,
   "metadata": {},
   "outputs": [],
   "source": [
    "# Plotting Linear regression of the above graph\n",
    "\n",
    "LR = stats.linregress(df_stock['daily_ret'].iloc[1:],df_nse['daily_ret'].iloc[1:])"
   ]
  },
  {
   "cell_type": "code",
   "execution_count": 12,
   "metadata": {},
   "outputs": [
    {
     "data": {
      "text/plain": [
       "LinregressResult(slope=0.20070724013868727, intercept=0.0003992395021435452, rvalue=0.5332407032678749, pvalue=1.5025469890568404e-19, stderr=0.02034268915103047, intercept_stderr=0.0005354479115033157)"
      ]
     },
     "execution_count": 12,
     "metadata": {},
     "output_type": "execute_result"
    }
   ],
   "source": [
    "# Values obtaibed\n",
    "\n",
    "LR"
   ]
  },
  {
   "cell_type": "code",
   "execution_count": 13,
   "metadata": {},
   "outputs": [],
   "source": [
    "# Initializing the values to variables.\n",
    "\n",
    "beta,alpha,r_val,p_val,std_err = LR"
   ]
  },
  {
   "cell_type": "code",
   "execution_count": 14,
   "metadata": {},
   "outputs": [
    {
     "data": {
      "text/plain": [
       "0.20070724013868727"
      ]
     },
     "execution_count": 14,
     "metadata": {},
     "output_type": "execute_result"
    }
   ],
   "source": [
    "# Slope of graph\n",
    "\n",
    "beta"
   ]
  },
  {
   "cell_type": "code",
   "execution_count": 15,
   "metadata": {},
   "outputs": [
    {
     "data": {
      "text/plain": [
       "0.0003992395021435452"
      ]
     },
     "execution_count": 15,
     "metadata": {},
     "output_type": "execute_result"
    }
   ],
   "source": [
    "# Intercept of linesr regression\n",
    "\n",
    "alpha #not for use as of now.in CAPM model, FF me use ayega."
   ]
  },
  {
   "cell_type": "code",
   "execution_count": 16,
   "metadata": {},
   "outputs": [
    {
     "data": {
      "text/html": [
       "<div>\n",
       "<style scoped>\n",
       "    .dataframe tbody tr th:only-of-type {\n",
       "        vertical-align: middle;\n",
       "    }\n",
       "\n",
       "    .dataframe tbody tr th {\n",
       "        vertical-align: top;\n",
       "    }\n",
       "\n",
       "    .dataframe thead th {\n",
       "        text-align: right;\n",
       "    }\n",
       "</style>\n",
       "<table border=\"1\" class=\"dataframe\">\n",
       "  <thead>\n",
       "    <tr style=\"text-align: right;\">\n",
       "      <th></th>\n",
       "      <th>High</th>\n",
       "      <th>Low</th>\n",
       "      <th>Open</th>\n",
       "      <th>Close</th>\n",
       "      <th>Volume</th>\n",
       "      <th>Adj Close</th>\n",
       "    </tr>\n",
       "    <tr>\n",
       "      <th>Date</th>\n",
       "      <th></th>\n",
       "      <th></th>\n",
       "      <th></th>\n",
       "      <th></th>\n",
       "      <th></th>\n",
       "      <th></th>\n",
       "    </tr>\n",
       "  </thead>\n",
       "  <tbody>\n",
       "    <tr>\n",
       "      <th>2022-07-19</th>\n",
       "      <td>407.799988</td>\n",
       "      <td>401.200012</td>\n",
       "      <td>403</td>\n",
       "      <td>405.649994</td>\n",
       "      <td>6448589</td>\n",
       "      <td>405.649994</td>\n",
       "    </tr>\n",
       "  </tbody>\n",
       "</table>\n",
       "</div>"
      ],
      "text/plain": [
       "                  High         Low  Open       Close   Volume   Adj Close\n",
       "Date                                                                     \n",
       "2022-07-19  407.799988  401.200012   403  405.649994  6448589  405.649994"
      ]
     },
     "execution_count": 16,
     "metadata": {},
     "output_type": "execute_result"
    }
   ],
   "source": [
    "# For predicting return on an asset on May 11th, we made a dataframe for that time.\n",
    "\n",
    "date_1 = datetime.datetime(2022,7,19)\n",
    "df_stock_1 = web.DataReader('WIPRO.NS','yahoo',date_1, date_1)\n",
    "df_stock_1.head()"
   ]
  },
  {
   "cell_type": "code",
   "execution_count": 17,
   "metadata": {},
   "outputs": [
    {
     "data": {
      "text/plain": [
       "0.6307728336125202"
      ]
     },
     "execution_count": 17,
     "metadata": {},
     "output_type": "execute_result"
    }
   ],
   "source": [
    "# Original return obtained.\n",
    "\n",
    "original_return = df_stock_1.iloc[0].at[\"Close\"]/df_stock.iloc[0].at[\"Close\"]\n",
    "original_return"
   ]
  },
  {
   "cell_type": "code",
   "execution_count": 18,
   "metadata": {},
   "outputs": [
    {
     "data": {
      "text/plain": [
       "1.1461689233205603"
      ]
     },
     "execution_count": 18,
     "metadata": {},
     "output_type": "execute_result"
    }
   ],
   "source": [
    "#Using Formula, taking risk free return as 1.\n",
    "\n",
    "capm_return = 1 + beta * (df_stock.iloc[-1].at[\"Cumu\"] - 1)\n",
    "capm_return"
   ]
  },
  {
   "cell_type": "code",
   "execution_count": null,
   "metadata": {},
   "outputs": [],
   "source": []
  },
  {
   "cell_type": "code",
   "execution_count": null,
   "metadata": {},
   "outputs": [],
   "source": []
  },
  {
   "cell_type": "code",
   "execution_count": null,
   "metadata": {},
   "outputs": [],
   "source": []
  },
  {
   "cell_type": "code",
   "execution_count": null,
   "metadata": {},
   "outputs": [],
   "source": []
  },
  {
   "cell_type": "code",
   "execution_count": null,
   "metadata": {},
   "outputs": [],
   "source": []
  },
  {
   "cell_type": "code",
   "execution_count": null,
   "metadata": {},
   "outputs": [],
   "source": []
  }
 ],
 "metadata": {
  "kernelspec": {
   "display_name": "Python 3 (ipykernel)",
   "language": "python",
   "name": "python3"
  },
  "language_info": {
   "codemirror_mode": {
    "name": "ipython",
    "version": 3
   },
   "file_extension": ".py",
   "mimetype": "text/x-python",
   "name": "python",
   "nbconvert_exporter": "python",
   "pygments_lexer": "ipython3",
   "version": "3.10.4"
  }
 },
 "nbformat": 4,
 "nbformat_minor": 4
}
