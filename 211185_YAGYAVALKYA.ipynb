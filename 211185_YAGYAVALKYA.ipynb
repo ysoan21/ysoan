{
 "cells": [
  {
   "cell_type": "code",
   "execution_count": null,
   "id": "6d9b6a4e",
   "metadata": {},
   "outputs": [],
   "source": []
  },
  {
   "cell_type": "code",
   "execution_count": 1,
   "id": "46d4eb97",
   "metadata": {},
   "outputs": [
    {
     "name": "stdout",
     "output_type": "stream",
     "text": [
      "Requirement already satisfied: pandas_datareader in c:\\users\\yashs\\appdata\\local\\programs\\python\\python310\\lib\\site-packages (0.10.0)\n",
      "Requirement already satisfied: lxml in c:\\users\\yashs\\appdata\\local\\programs\\python\\python310\\lib\\site-packages (from pandas_datareader) (4.9.0)\n",
      "Requirement already satisfied: requests>=2.19.0 in c:\\users\\yashs\\appdata\\local\\programs\\python\\python310\\lib\\site-packages (from pandas_datareader) (2.27.1)\n",
      "Requirement already satisfied: pandas>=0.23 in c:\\users\\yashs\\appdata\\local\\programs\\python\\python310\\lib\\site-packages (from pandas_datareader) (1.4.2)\n",
      "Requirement already satisfied: python-dateutil>=2.8.1 in c:\\users\\yashs\\appdata\\local\\programs\\python\\python310\\lib\\site-packages (from pandas>=0.23->pandas_datareader) (2.8.2)\n",
      "Requirement already satisfied: pytz>=2020.1 in c:\\users\\yashs\\appdata\\local\\programs\\python\\python310\\lib\\site-packages (from pandas>=0.23->pandas_datareader) (2022.1)\n",
      "Requirement already satisfied: numpy>=1.21.0 in c:\\users\\yashs\\appdata\\local\\programs\\python\\python310\\lib\\site-packages (from pandas>=0.23->pandas_datareader) (1.22.4)\n",
      "Requirement already satisfied: urllib3<1.27,>=1.21.1 in c:\\users\\yashs\\appdata\\local\\programs\\python\\python310\\lib\\site-packages (from requests>=2.19.0->pandas_datareader) (1.26.9)\n",
      "Requirement already satisfied: charset-normalizer~=2.0.0 in c:\\users\\yashs\\appdata\\local\\programs\\python\\python310\\lib\\site-packages (from requests>=2.19.0->pandas_datareader) (2.0.12)\n",
      "Requirement already satisfied: idna<4,>=2.5 in c:\\users\\yashs\\appdata\\local\\programs\\python\\python310\\lib\\site-packages (from requests>=2.19.0->pandas_datareader) (3.3)\n",
      "Requirement already satisfied: certifi>=2017.4.17 in c:\\users\\yashs\\appdata\\local\\programs\\python\\python310\\lib\\site-packages (from requests>=2.19.0->pandas_datareader) (2022.5.18.1)\n",
      "Requirement already satisfied: six>=1.5 in c:\\users\\yashs\\appdata\\local\\programs\\python\\python310\\lib\\site-packages (from python-dateutil>=2.8.1->pandas>=0.23->pandas_datareader) (1.16.0)\n",
      "Note: you may need to restart the kernel to use updated packages.\n"
     ]
    },
    {
     "name": "stderr",
     "output_type": "stream",
     "text": [
      "WARNING: There was an error checking the latest version of pip.\n"
     ]
    }
   ],
   "source": [
    "pip install pandas_datareader"
   ]
  },
  {
   "cell_type": "code",
   "execution_count": 2,
   "id": "ecb29b2a",
   "metadata": {},
   "outputs": [],
   "source": [
    "from scipy import stats\n",
    "import pandas as pd\n",
    "import pandas_datareader as web \n",
    "import datetime\n",
    "import matplotlib.pyplot as plt\n",
    "%matplotlib inline"
   ]
  },
  {
   "cell_type": "code",
   "execution_count": 3,
   "id": "f8b5904c",
   "metadata": {},
   "outputs": [],
   "source": [
    "start=datetime.datetime(2021,1,1)\n",
    "end=datetime.datetime(2022,1,1)\n"
   ]
  },
  {
   "cell_type": "code",
   "execution_count": 4,
   "id": "ee908b05",
   "metadata": {},
   "outputs": [
    {
     "data": {
      "text/html": [
       "<div>\n",
       "<style scoped>\n",
       "    .dataframe tbody tr th:only-of-type {\n",
       "        vertical-align: middle;\n",
       "    }\n",
       "\n",
       "    .dataframe tbody tr th {\n",
       "        vertical-align: top;\n",
       "    }\n",
       "\n",
       "    .dataframe thead th {\n",
       "        text-align: right;\n",
       "    }\n",
       "</style>\n",
       "<table border=\"1\" class=\"dataframe\">\n",
       "  <thead>\n",
       "    <tr style=\"text-align: right;\">\n",
       "      <th></th>\n",
       "      <th>High</th>\n",
       "      <th>Low</th>\n",
       "      <th>Open</th>\n",
       "      <th>Close</th>\n",
       "      <th>Volume</th>\n",
       "      <th>Adj Close</th>\n",
       "    </tr>\n",
       "    <tr>\n",
       "      <th>Date</th>\n",
       "      <th></th>\n",
       "      <th></th>\n",
       "      <th></th>\n",
       "      <th></th>\n",
       "      <th></th>\n",
       "      <th></th>\n",
       "    </tr>\n",
       "  </thead>\n",
       "  <tbody>\n",
       "    <tr>\n",
       "      <th>2021-01-01</th>\n",
       "      <td>14049.849609</td>\n",
       "      <td>13991.349609</td>\n",
       "      <td>13996.099609</td>\n",
       "      <td>14018.500000</td>\n",
       "      <td>358100</td>\n",
       "      <td>14018.500000</td>\n",
       "    </tr>\n",
       "    <tr>\n",
       "      <th>2021-01-04</th>\n",
       "      <td>14147.950195</td>\n",
       "      <td>13953.750000</td>\n",
       "      <td>14104.349609</td>\n",
       "      <td>14132.900391</td>\n",
       "      <td>495000</td>\n",
       "      <td>14132.900391</td>\n",
       "    </tr>\n",
       "    <tr>\n",
       "      <th>2021-01-05</th>\n",
       "      <td>14215.599609</td>\n",
       "      <td>14048.150391</td>\n",
       "      <td>14075.150391</td>\n",
       "      <td>14199.500000</td>\n",
       "      <td>492500</td>\n",
       "      <td>14199.500000</td>\n",
       "    </tr>\n",
       "    <tr>\n",
       "      <th>2021-01-06</th>\n",
       "      <td>14244.150391</td>\n",
       "      <td>14039.900391</td>\n",
       "      <td>14240.950195</td>\n",
       "      <td>14146.250000</td>\n",
       "      <td>632300</td>\n",
       "      <td>14146.250000</td>\n",
       "    </tr>\n",
       "    <tr>\n",
       "      <th>2021-01-07</th>\n",
       "      <td>14256.250000</td>\n",
       "      <td>14123.099609</td>\n",
       "      <td>14253.750000</td>\n",
       "      <td>14137.349609</td>\n",
       "      <td>559200</td>\n",
       "      <td>14137.349609</td>\n",
       "    </tr>\n",
       "  </tbody>\n",
       "</table>\n",
       "</div>"
      ],
      "text/plain": [
       "                    High           Low          Open         Close  Volume  \\\n",
       "Date                                                                         \n",
       "2021-01-01  14049.849609  13991.349609  13996.099609  14018.500000  358100   \n",
       "2021-01-04  14147.950195  13953.750000  14104.349609  14132.900391  495000   \n",
       "2021-01-05  14215.599609  14048.150391  14075.150391  14199.500000  492500   \n",
       "2021-01-06  14244.150391  14039.900391  14240.950195  14146.250000  632300   \n",
       "2021-01-07  14256.250000  14123.099609  14253.750000  14137.349609  559200   \n",
       "\n",
       "               Adj Close  \n",
       "Date                      \n",
       "2021-01-01  14018.500000  \n",
       "2021-01-04  14132.900391  \n",
       "2021-01-05  14199.500000  \n",
       "2021-01-06  14146.250000  \n",
       "2021-01-07  14137.349609  "
      ]
     },
     "execution_count": 4,
     "metadata": {},
     "output_type": "execute_result"
    }
   ],
   "source": [
    "df_nifty=web.DataReader(\"^NSEI\",\"yahoo\",start,end)\n",
    "df_nifty.head()"
   ]
  },
  {
   "cell_type": "code",
   "execution_count": 5,
   "id": "0601278b",
   "metadata": {},
   "outputs": [
    {
     "data": {
      "text/html": [
       "<div>\n",
       "<style scoped>\n",
       "    .dataframe tbody tr th:only-of-type {\n",
       "        vertical-align: middle;\n",
       "    }\n",
       "\n",
       "    .dataframe tbody tr th {\n",
       "        vertical-align: top;\n",
       "    }\n",
       "\n",
       "    .dataframe thead th {\n",
       "        text-align: right;\n",
       "    }\n",
       "</style>\n",
       "<table border=\"1\" class=\"dataframe\">\n",
       "  <thead>\n",
       "    <tr style=\"text-align: right;\">\n",
       "      <th></th>\n",
       "      <th>High</th>\n",
       "      <th>Low</th>\n",
       "      <th>Open</th>\n",
       "      <th>Close</th>\n",
       "      <th>Volume</th>\n",
       "      <th>Adj Close</th>\n",
       "    </tr>\n",
       "    <tr>\n",
       "      <th>Date</th>\n",
       "      <th></th>\n",
       "      <th></th>\n",
       "      <th></th>\n",
       "      <th></th>\n",
       "      <th></th>\n",
       "      <th></th>\n",
       "    </tr>\n",
       "  </thead>\n",
       "  <tbody>\n",
       "    <tr>\n",
       "      <th>2021-01-01</th>\n",
       "      <td>5338.000000</td>\n",
       "      <td>5250.000000</td>\n",
       "      <td>5310.200195</td>\n",
       "      <td>5280.149902</td>\n",
       "      <td>1447187.0</td>\n",
       "      <td>5252.506836</td>\n",
       "    </tr>\n",
       "    <tr>\n",
       "      <th>2021-01-04</th>\n",
       "      <td>5324.000000</td>\n",
       "      <td>5196.200195</td>\n",
       "      <td>5324.000000</td>\n",
       "      <td>5216.200195</td>\n",
       "      <td>2333659.0</td>\n",
       "      <td>5188.892090</td>\n",
       "    </tr>\n",
       "    <tr>\n",
       "      <th>2021-01-05</th>\n",
       "      <td>5224.200195</td>\n",
       "      <td>5062.500000</td>\n",
       "      <td>5218.000000</td>\n",
       "      <td>5119.000000</td>\n",
       "      <td>3953400.0</td>\n",
       "      <td>5092.200684</td>\n",
       "    </tr>\n",
       "    <tr>\n",
       "      <th>2021-01-06</th>\n",
       "      <td>5168.350098</td>\n",
       "      <td>4990.299805</td>\n",
       "      <td>5130.000000</td>\n",
       "      <td>5030.299805</td>\n",
       "      <td>3607923.0</td>\n",
       "      <td>5003.964844</td>\n",
       "    </tr>\n",
       "    <tr>\n",
       "      <th>2021-01-07</th>\n",
       "      <td>5131.549805</td>\n",
       "      <td>5021.299805</td>\n",
       "      <td>5065.000000</td>\n",
       "      <td>5081.000000</td>\n",
       "      <td>3035750.0</td>\n",
       "      <td>5054.399414</td>\n",
       "    </tr>\n",
       "  </tbody>\n",
       "</table>\n",
       "</div>"
      ],
      "text/plain": [
       "                   High          Low         Open        Close     Volume  \\\n",
       "Date                                                                        \n",
       "2021-01-01  5338.000000  5250.000000  5310.200195  5280.149902  1447187.0   \n",
       "2021-01-04  5324.000000  5196.200195  5324.000000  5216.200195  2333659.0   \n",
       "2021-01-05  5224.200195  5062.500000  5218.000000  5119.000000  3953400.0   \n",
       "2021-01-06  5168.350098  4990.299805  5130.000000  5030.299805  3607923.0   \n",
       "2021-01-07  5131.549805  5021.299805  5065.000000  5081.000000  3035750.0   \n",
       "\n",
       "              Adj Close  \n",
       "Date                     \n",
       "2021-01-01  5252.506836  \n",
       "2021-01-04  5188.892090  \n",
       "2021-01-05  5092.200684  \n",
       "2021-01-06  5003.964844  \n",
       "2021-01-07  5054.399414  "
      ]
     },
     "execution_count": 5,
     "metadata": {},
     "output_type": "execute_result"
    }
   ],
   "source": [
    "df_b=web.DataReader(\"BAJFINANCE.NS\",\"yahoo\",start,end)\n",
    "df_b.head()"
   ]
  },
  {
   "cell_type": "code",
   "execution_count": 6,
   "id": "50a0c7e3",
   "metadata": {},
   "outputs": [
    {
     "data": {
      "text/plain": [
       "<matplotlib.legend.Legend at 0x2838fe532e0>"
      ]
     },
     "execution_count": 6,
     "metadata": {},
     "output_type": "execute_result"
    },
    {
     "data": {
      "image/png": "[encoded data removed]",
      "text/plain": [
       "<Figure size 720x576 with 1 Axes>"
      ]
     },
     "metadata": {
      "needs_background": "light"
     },
     "output_type": "display_data"
    }
   ],
   "source": [
    "df_nifty['Close'].plot(label = 'Nifty', figsize=(10,8) )\n",
    "df_b['Close'].plot(label = 'Bajaj')\n",
    "plt.legend()"
   ]
  },
  {
   "cell_type": "code",
   "execution_count": 7,
   "id": "7ff2bfdd",
   "metadata": {},
   "outputs": [],
   "source": [
    "df_nifty['cum']=df_nifty[\"Close\"]/df_nifty[\"Close\"].iloc[0]\n",
    "df_b['cum']=df_b[\"Close\"]/df_b[\"Close\"].iloc[0]\n"
   ]
  },
  {
   "cell_type": "code",
   "execution_count": 8,
   "id": "d66c0c01",
   "metadata": {},
   "outputs": [
    {
     "data": {
      "text/plain": [
       "<matplotlib.legend.Legend at 0x28390054cd0>"
      ]
     },
     "execution_count": 8,
     "metadata": {},
     "output_type": "execute_result"
    },
    {
     "data": {
      "image/png": "[encoded data removed]",
      "text/plain": [
       "<Figure size 720x576 with 1 Axes>"
      ]
     },
     "metadata": {
      "needs_background": "light"
     },
     "output_type": "display_data"
    }
   ],
   "source": [
    "df_nifty['cum'].plot(label = 'Nifty', figsize=(10,8))\n",
    "df_b['cum'].plot(label = 'Bajaj')\n",
    "plt.legend()"
   ]
  },
  {
   "cell_type": "code",
   "execution_count": 9,
   "id": "b7b1ed15",
   "metadata": {},
   "outputs": [],
   "source": [
    "df_nifty['daily_ret'] = df_nifty['Close'].pct_change(1)\n",
    "df_b['daily_ret'] = df_b['Close'].pct_change(1)"
   ]
  },
  {
   "cell_type": "code",
   "execution_count": 10,
   "id": "c994a7b6",
   "metadata": {},
   "outputs": [
    {
     "data": {
      "text/plain": [
       "<matplotlib.collections.PathCollection at 0x2838fefb9d0>"
      ]
     },
     "execution_count": 10,
     "metadata": {},
     "output_type": "execute_result"
    },
    {
     "data": {
      "image/png": "[encoded data removed]",
      "text/plain": [
       "<Figure size 432x288 with 1 Axes>"
      ]
     },
     "metadata": {
      "needs_background": "light"
     },
     "output_type": "display_data"
    }
   ],
   "source": [
    "plt.scatter(df_b['daily_ret'],df_nifty['daily_ret'])"
   ]
  },
  {
   "cell_type": "code",
   "execution_count": 11,
   "id": "f700e1d8",
   "metadata": {},
   "outputs": [
    {
     "data": {
      "text/plain": [
       "LinregressResult(slope=0.3028960742957345, intercept=0.0005058653732726757, rvalue=0.6396327955262322, pvalue=8.058089332556864e-30, stderr=0.023255506783162176, intercept_stderr=0.00048523313437910556)"
      ]
     },
     "execution_count": 11,
     "metadata": {},
     "output_type": "execute_result"
    }
   ],
   "source": [
    "LR = stats.linregress(df_b['daily_ret'].iloc[1:],df_nifty['daily_ret'].iloc[1:])\n",
    "LR"
   ]
  },
  {
   "cell_type": "code",
   "execution_count": 12,
   "id": "0c871c4e",
   "metadata": {},
   "outputs": [],
   "source": [
    "beta,alpha,r_val,p_val,std_err = LR"
   ]
  },
  {
   "cell_type": "code",
   "execution_count": 13,
   "id": "92cc08a0",
   "metadata": {},
   "outputs": [
    {
     "data": {
      "text/plain": [
       "0.3028960742957345"
      ]
     },
     "execution_count": 13,
     "metadata": {},
     "output_type": "execute_result"
    }
   ],
   "source": [
    "beta#value_of_beta"
   ]
  },
  {
   "cell_type": "code",
   "execution_count": 14,
   "id": "5116b65e",
   "metadata": {},
   "outputs": [
    {
     "data": {
      "text/plain": [
       "0.0005058653732726757"
      ]
     },
     "execution_count": 14,
     "metadata": {},
     "output_type": "execute_result"
    }
   ],
   "source": [
    "alpha#value_of_alpha "
   ]
  },
  {
   "cell_type": "code",
   "execution_count": 15,
   "id": "17a157c3",
   "metadata": {},
   "outputs": [],
   "source": [
    "date=datetime.datetime(2022,7,19)"
   ]
  },
  {
   "cell_type": "code",
   "execution_count": 16,
   "id": "aa37e95c",
   "metadata": {},
   "outputs": [
    {
     "data": {
      "text/plain": [
       "0.2379392075650034"
      ]
     },
     "execution_count": 16,
     "metadata": {},
     "output_type": "execute_result"
    }
   ],
   "source": [
    "rm = (df_nifty['Close'].iloc[-1]-df_nifty['Close'].iloc[0])/df_nifty['Close'].iloc[0]\n",
    "rm"
   ]
  },
  {
   "cell_type": "code",
   "execution_count": 17,
   "id": "13218094",
   "metadata": {},
   "outputs": [
    {
     "data": {
      "text/plain": [
       "0.055"
      ]
     },
     "execution_count": 17,
     "metadata": {},
     "output_type": "execute_result"
    }
   ],
   "source": [
    "rf=0.055 #fd return of sbi taken as risk free return\n",
    "rf"
   ]
  },
  {
   "cell_type": "code",
   "execution_count": 18,
   "id": "78508d9e",
   "metadata": {},
   "outputs": [
    {
     "data": {
      "text/plain": [
       "0.6396327955262322"
      ]
     },
     "execution_count": 18,
     "metadata": {},
     "output_type": "execute_result"
    }
   ],
   "source": [
    "r_val"
   ]
  },
  {
   "cell_type": "code",
   "execution_count": 19,
   "id": "10adaaf8",
   "metadata": {},
   "outputs": [
    {
     "data": {
      "text/plain": [
       "8.058089332556864e-30"
      ]
     },
     "execution_count": 19,
     "metadata": {},
     "output_type": "execute_result"
    }
   ],
   "source": [
    "p_val"
   ]
  },
  {
   "cell_type": "code",
   "execution_count": 20,
   "id": "3d25db7e",
   "metadata": {},
   "outputs": [],
   "source": [
    "smb=0.15"
   ]
  },
  {
   "cell_type": "code",
   "execution_count": 21,
   "id": "e85edc9b",
   "metadata": {},
   "outputs": [],
   "source": [
    "hml=0.17"
   ]
  },
  {
   "cell_type": "code",
   "execution_count": 22,
   "id": "9a5a9263",
   "metadata": {},
   "outputs": [
    {
     "data": {
      "text/plain": [
       "1.0554115678062121"
      ]
     },
     "execution_count": 22,
     "metadata": {},
     "output_type": "execute_result"
    }
   ],
   "source": [
    "\n",
    "expected_return_capm= 1+beta*(rm-rf)\n",
    "expected_return_capm"
   ]
  },
  {
   "cell_type": "code",
   "execution_count": 23,
   "id": "a1f3d3c4",
   "metadata": {},
   "outputs": [
    {
     "data": {
      "text/html": [
       "<div>\n",
       "<style scoped>\n",
       "    .dataframe tbody tr th:only-of-type {\n",
       "        vertical-align: middle;\n",
       "    }\n",
       "\n",
       "    .dataframe tbody tr th {\n",
       "        vertical-align: top;\n",
       "    }\n",
       "\n",
       "    .dataframe thead th {\n",
       "        text-align: right;\n",
       "    }\n",
       "</style>\n",
       "<table border=\"1\" class=\"dataframe\">\n",
       "  <thead>\n",
       "    <tr style=\"text-align: right;\">\n",
       "      <th></th>\n",
       "      <th>High</th>\n",
       "      <th>Low</th>\n",
       "      <th>Open</th>\n",
       "      <th>Close</th>\n",
       "      <th>Volume</th>\n",
       "      <th>Adj Close</th>\n",
       "    </tr>\n",
       "    <tr>\n",
       "      <th>Date</th>\n",
       "      <th></th>\n",
       "      <th></th>\n",
       "      <th></th>\n",
       "      <th></th>\n",
       "      <th></th>\n",
       "      <th></th>\n",
       "    </tr>\n",
       "  </thead>\n",
       "  <tbody>\n",
       "    <tr>\n",
       "      <th>2022-07-19</th>\n",
       "      <td>6098.149902</td>\n",
       "      <td>6002.049805</td>\n",
       "      <td>6040</td>\n",
       "      <td>6065.950195</td>\n",
       "      <td>978560</td>\n",
       "      <td>6065.950195</td>\n",
       "    </tr>\n",
       "  </tbody>\n",
       "</table>\n",
       "</div>"
      ],
      "text/plain": [
       "                   High          Low  Open        Close  Volume    Adj Close\n",
       "Date                                                                        \n",
       "2022-07-19  6098.149902  6002.049805  6040  6065.950195  978560  6065.950195"
      ]
     },
     "execution_count": 23,
     "metadata": {},
     "output_type": "execute_result"
    }
   ],
   "source": [
    "df_baj=web.DataReader(\"BAJFINANCE.NS\",\"yahoo\",date,date)\n",
    "df_baj"
   ]
  },
  {
   "cell_type": "code",
   "execution_count": null,
   "id": "c9ddcd3b",
   "metadata": {},
   "outputs": [],
   "source": []
  },
  {
   "cell_type": "code",
   "execution_count": 24,
   "id": "0261b54f",
   "metadata": {},
   "outputs": [
    {
     "data": {
      "text/plain": [
       "1.1488215879287724"
      ]
     },
     "execution_count": 24,
     "metadata": {},
     "output_type": "execute_result"
    }
   ],
   "source": [
    "actual_return=df_baj['Close'].iloc[0]/df_b['Close'].iloc[0]\n",
    "actual_return"
   ]
  },
  {
   "cell_type": "code",
   "execution_count": 25,
   "id": "dd01650e",
   "metadata": {},
   "outputs": [
    {
     "data": {
      "text/plain": [
       "0.08130942271982423"
      ]
     },
     "execution_count": 25,
     "metadata": {},
     "output_type": "execute_result"
    }
   ],
   "source": [
    "err_capm=(actual_return-expected_return_capm)/actual_return\n",
    "err_capm"
   ]
  },
  {
   "cell_type": "code",
   "execution_count": 26,
   "id": "7f452f85",
   "metadata": {},
   "outputs": [
    {
     "data": {
      "text/plain": [
       "1.1518623525084195"
      ]
     },
     "execution_count": 26,
     "metadata": {},
     "output_type": "execute_result"
    }
   ],
   "source": [
    "expected_return_fama=1+beta*(rm-rf)+r_val*smb+p_val*hml+alpha\n",
    "expected_return_fama"
   ]
  },
  {
   "cell_type": "code",
   "execution_count": 27,
   "id": "a4e0ef85",
   "metadata": {},
   "outputs": [
    {
     "data": {
      "text/plain": [
       "0.0026468553617009596"
      ]
     },
     "execution_count": 27,
     "metadata": {},
     "output_type": "execute_result"
    }
   ],
   "source": [
    "err_fama=(expected_return_fama-actual_return)/actual_return\n",
    "err_fama"
   ]
  },
  {
   "cell_type": "code",
   "execution_count": 28,
   "id": "6f2be692",
   "metadata": {},
   "outputs": [],
   "source": [
    "# So,It can be seen that return in fama-french Three_Factor model is less than CAPM model."
   ]
  },
  {
   "cell_type": "code",
   "execution_count": null,
   "id": "33ca40e9",
   "metadata": {},
   "outputs": [],
   "source": []
  },
  {
   "cell_type": "code",
   "execution_count": null,
   "id": "daf3947f",
   "metadata": {},
   "outputs": [],
   "source": []
  }
 ],
 "metadata": {
  "kernelspec": {
   "display_name": "Python 3 (ipykernel)",
   "language": "python",
   "name": "python3"
  },
  "language_info": {
   "codemirror_mode": {
    "name": "ipython",
    "version": 3
   },
   "file_extension": ".py",
   "mimetype": "text/x-python",
   "name": "python",
   "nbconvert_exporter": "python",
   "pygments_lexer": "ipython3",
   "version": "3.10.4"
  }
 },
 "nbformat": 4,
 "nbformat_minor": 5
}
